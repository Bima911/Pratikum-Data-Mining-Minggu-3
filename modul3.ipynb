{
 "cells": [
  {
   "cell_type": "code",
   "execution_count": 16,
   "metadata": {},
   "outputs": [
    {
     "name": "stdout",
     "output_type": "stream",
     "text": [
      "tampilkan datanya 10 teratas : \n",
      "    tahun_berkerja     gaji\n",
      "0               1  3900000\n",
      "1               2  4600000\n",
      "2               3  3700000\n",
      "3               4  4300000\n",
      "4               5  3900000\n",
      "5               6  5600000\n",
      "6               7  6000000\n",
      "7               8  5400000\n",
      "8               9  6400000\n",
      "9              10  5700000\n",
      "tampilkan datanya 10 terbawah : \n",
      "     tahun_berkerja     gaji\n",
      "10              11  6300000\n",
      "11              12  5500000\n",
      "12              13  5600000\n",
      "13              14  5700000\n",
      "14              15  6100000\n",
      "15              16  6700000\n",
      "16              17  6600000\n",
      "17              18  8300000\n",
      "18              19  8100000\n",
      "19              20  9300000\n",
      "tampilkan rata rata gaji : \n",
      " 5885000.0\n",
      "tampilkan rata-rata bekerja : \n",
      " 10.5\n",
      "tampilkan gaji paling besar : \n",
      " 9300000\n",
      "tampilkan tahun bekerja paling kecil : \n",
      " 1\n"
     ]
    }
   ],
   "source": [
    "import pandas as pd\n",
    "\n",
    "df = pd.read_csv('Data Gaji.csv')\n",
    "\n",
    "print(\"tampilkan datanya 10 teratas : \\n\", df.head(10))\n",
    "print(\"tampilkan datanya 10 terbawah : \\n\", df.tail(10))\n",
    "print(\"tampilkan rata rata gaji : \\n\", df[\"gaji\"].mean())\n",
    "print(\"tampilkan rata-rata bekerja : \\n\", df[\"tahun_berkerja\"].mean())\n",
    "print(\"tampilkan gaji paling besar : \\n\", df[\"gaji\"].max())\n",
    "print(\"tampilkan tahun bekerja paling kecil : \\n\", df[\"tahun_berkerja\"].min())"
   ]
  }
 ],
 "metadata": {
  "kernelspec": {
   "display_name": "Python 3",
   "language": "python",
   "name": "python3"
  },
  "language_info": {
   "codemirror_mode": {
    "name": "ipython",
    "version": 3
   },
   "file_extension": ".py",
   "mimetype": "text/x-python",
   "name": "python",
   "nbconvert_exporter": "python",
   "pygments_lexer": "ipython3",
   "version": "3.10.8"
  },
  "orig_nbformat": 4
 },
 "nbformat": 4,
 "nbformat_minor": 2
}
